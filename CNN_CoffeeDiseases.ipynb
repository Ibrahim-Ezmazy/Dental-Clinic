{
  "nbformat": 4,
  "nbformat_minor": 0,
  "metadata": {
    "colab": {
      "provenance": [],
      "authorship_tag": "ABX9TyN4h+wDl4CiSZaxtKPPLX0J",
      "include_colab_link": true
    },
    "kernelspec": {
      "name": "python3",
      "display_name": "Python 3"
    },
    "language_info": {
      "name": "python"
    }
  },
  "cells": [
    {
      "cell_type": "markdown",
      "metadata": {
        "id": "view-in-github",
        "colab_type": "text"
      },
      "source": [
        "<a href=\"https://colab.research.google.com/github/Ibrahim-Ezmazy/Dental-Clinic/blob/main/CNN_CoffeeDiseases.ipynb\" target=\"_parent\"><img src=\"https://colab.research.google.com/assets/colab-badge.svg\" alt=\"Open In Colab\"/></a>"
      ]
    },
    {
      "cell_type": "code",
      "source": [
        "import tensorflow as tf\n",
        "from tensorflow.keras import layers, models\n",
        "from tensorflow.keras.preprocessing.image import ImageDataGenerator"
      ],
      "metadata": {
        "id": "p8LH4m2IMkj-"
      },
      "execution_count": null,
      "outputs": []
    },
    {
      "cell_type": "code",
      "source": [
        "# Mount Google Drive if needed\n",
        "from google.colab import drive\n",
        "drive.mount('/content/drive')"
      ],
      "metadata": {
        "colab": {
          "base_uri": "https://localhost:8080/"
        },
        "id": "OTZKnGGR_n2S",
        "outputId": "de38e29d-3236-4ba6-b476-6ca5b65c50ce"
      },
      "execution_count": null,
      "outputs": [
        {
          "output_type": "stream",
          "name": "stdout",
          "text": [
            "Mounted at /content/drive\n"
          ]
        }
      ]
    },
    {
      "cell_type": "code",
      "source": [
        "\n",
        "# Define paths to training and validation data\n",
        "train_dir = '/content/drive/MyDrive/data/train'\n",
        "validation_dir = '/content/drive/MyDrive/data/valid'"
      ],
      "metadata": {
        "id": "XCj6GHrF_44z"
      },
      "execution_count": null,
      "outputs": []
    },
    {
      "cell_type": "code",
      "source": [
        "# Data Preprocessing\n",
        "train_datagen = ImageDataGenerator(rescale=1./255)\n",
        "validation_datagen = ImageDataGenerator(rescale=1./255)\n",
        "\n",
        "train_generator = train_datagen.flow_from_directory(\n",
        "        train_dir,\n",
        "        target_size=(150, 150),\n",
        "        batch_size=20,\n",
        "        class_mode='binary')\n",
        "\n",
        "validation_generator = validation_datagen.flow_from_directory(\n",
        "        validation_dir,\n",
        "        target_size=(150, 150),\n",
        "        batch_size=20,\n",
        "        class_mode='binary')\n",
        "\n"
      ],
      "metadata": {
        "colab": {
          "base_uri": "https://localhost:8080/"
        },
        "id": "doh455r_AJfr",
        "outputId": "6abad5bc-d95a-440d-80d3-df62653fbcce"
      },
      "execution_count": null,
      "outputs": [
        {
          "output_type": "stream",
          "name": "stdout",
          "text": [
            "Found 539 images belonging to 2 classes.\n",
            "Found 539 images belonging to 2 classes.\n"
          ]
        }
      ]
    },
    {
      "cell_type": "code",
      "source": [
        "# Build CNN Model\n",
        "\n",
        "model = models.Sequential([\n",
        "    layers.Conv2D(32, (3, 3), activation='relu', input_shape=(150, 150, 3)),\n",
        "    layers.MaxPooling2D((2, 2)),\n",
        "    layers.Conv2D(64, (3, 3), activation='relu'),\n",
        "    layers.MaxPooling2D((2, 2)),\n",
        "    layers.Conv2D(128, (3, 3), activation='relu'),\n",
        "    layers.MaxPooling2D((2, 2)),\n",
        "    layers.Conv2D(128, (3, 3), activation='relu'),\n",
        "    layers.MaxPooling2D((2, 2)),\n",
        "    layers.Flatten(),\n",
        "    layers.Dense(512, activation='relu'),\n",
        "    layers.Dense(1, activation='sigmoid')\n",
        "])\n"
      ],
      "metadata": {
        "id": "ogws_edlAQI9"
      },
      "execution_count": null,
      "outputs": []
    },
    {
      "cell_type": "code",
      "source": [
        "# Compile Model\n",
        "model.compile(optimizer='adam',\n",
        "              loss='binary_crossentropy',\n",
        "              metrics=['accuracy'])\n"
      ],
      "metadata": {
        "id": "6CNBpvPgAVHs"
      },
      "execution_count": null,
      "outputs": []
    },
    {
      "cell_type": "code",
      "source": [
        "# Train Model\n",
        "# Train Model\n",
        "history = model.fit(\n",
        "      train_generator,\n",
        "      epochs=10,\n",
        "      steps_per_epoch=len(train_generator),\n",
        "      validation_data=validation_generator,\n",
        "      validation_steps=len(validation_generator))\n",
        "\n"
      ],
      "metadata": {
        "colab": {
          "base_uri": "https://localhost:8080/"
        },
        "id": "i37yATwyAYZ0",
        "outputId": "5f3b4163-8bc4-4591-c281-085e8fa0d493"
      },
      "execution_count": null,
      "outputs": [
        {
          "output_type": "stream",
          "name": "stdout",
          "text": [
            "Epoch 1/10\n",
            "27/27 [==============================] - 230s 8s/step - loss: 0.5319 - accuracy: 0.7032 - val_loss: 0.3407 - val_accuracy: 0.8627\n",
            "Epoch 2/10\n",
            "27/27 [==============================] - 143s 5s/step - loss: 0.3386 - accuracy: 0.8701 - val_loss: 0.2881 - val_accuracy: 0.8905\n",
            "Epoch 3/10\n",
            "27/27 [==============================] - 152s 6s/step - loss: 0.3038 - accuracy: 0.8961 - val_loss: 0.2018 - val_accuracy: 0.9314\n",
            "Epoch 4/10\n",
            "27/27 [==============================] - 146s 5s/step - loss: 0.2306 - accuracy: 0.9072 - val_loss: 0.1515 - val_accuracy: 0.9406\n",
            "Epoch 5/10\n",
            "27/27 [==============================] - 164s 6s/step - loss: 0.1325 - accuracy: 0.9481 - val_loss: 0.0856 - val_accuracy: 0.9685\n",
            "Epoch 6/10\n",
            "27/27 [==============================] - 165s 6s/step - loss: 0.1080 - accuracy: 0.9685 - val_loss: 0.1109 - val_accuracy: 0.9536\n",
            "Epoch 7/10\n",
            "27/27 [==============================] - 151s 6s/step - loss: 0.1938 - accuracy: 0.9202 - val_loss: 0.1647 - val_accuracy: 0.9314\n",
            "Epoch 8/10\n",
            "27/27 [==============================] - 143s 5s/step - loss: 0.1469 - accuracy: 0.9462 - val_loss: 0.1433 - val_accuracy: 0.9406\n",
            "Epoch 9/10\n",
            "27/27 [==============================] - 162s 6s/step - loss: 0.0823 - accuracy: 0.9647 - val_loss: 0.0919 - val_accuracy: 0.9647\n",
            "Epoch 10/10\n",
            "27/27 [==============================] - 164s 6s/step - loss: 0.1143 - accuracy: 0.9555 - val_loss: 0.2317 - val_accuracy: 0.8868\n"
          ]
        }
      ]
    },
    {
      "cell_type": "code",
      "execution_count": null,
      "metadata": {
        "id": "oaKKfD1vMXad",
        "colab": {
          "base_uri": "https://localhost:8080/"
        },
        "outputId": "1dcdb5ac-c925-4740-f564-8bcd19c77fa1"
      },
      "outputs": [
        {
          "output_type": "stream",
          "name": "stdout",
          "text": [
            "27/27 [==============================] - 63s 2s/step - loss: 0.2317 - accuracy: 0.8868\n",
            "Validation Loss: 0.23169580101966858\n",
            "Validation Accuracy: 0.8868274688720703\n"
          ]
        }
      ],
      "source": [
        "# Evaluate Model\n",
        "loss, accuracy = model.evaluate(validation_generator)\n",
        "print(\"Validation Loss:\", loss)\n",
        "print(\"Validation Accuracy:\", accuracy)\n"
      ]
    },
    {
      "cell_type": "code",
      "source": [
        "from sklearn.metrics import confusion_matrix, precision_score, recall_score, f1_score\n",
        "\n",
        "# Predict on validation data\n",
        "y_pred = model.predict(validation_generator).flatten() > 0.5  # Assuming binary classification\n",
        "\n",
        "# True labels\n",
        "y_true = validation_generator.classes\n",
        "\n",
        "# Confusion matrix\n",
        "conf_matrix = confusion_matrix(y_true, y_pred)\n",
        "\n",
        "# True Positives, False Positives, True Negatives, False Negatives\n",
        "TN, FP, FN, TP = conf_matrix.ravel()\n",
        "\n",
        "# Precision, Recall, F-score\n",
        "precision = precision_score(y_true, y_pred)\n",
        "recall = recall_score(y_true, y_pred)\n",
        "f_score = f1_score(y_true, y_pred)\n",
        "\n",
        "print(\"Confusion Matrix:\")\n",
        "print(conf_matrix)\n",
        "print(\"\\nPrecision:\", precision)\n",
        "print(\"Recall:\", recall)\n",
        "print(\"F-score:\", f_score)\n"
      ],
      "metadata": {
        "colab": {
          "base_uri": "https://localhost:8080/"
        },
        "id": "8yUUufcWiuu8",
        "outputId": "fa05a54a-8054-4d7e-8f37-6540b8c925ee"
      },
      "execution_count": null,
      "outputs": [
        {
          "output_type": "stream",
          "name": "stdout",
          "text": [
            "27/27 [==============================] - 66s 2s/step\n",
            "Confusion Matrix:\n",
            "[[142 112]\n",
            " [173 112]]\n",
            "\n",
            "Precision: 0.5\n",
            "Recall: 0.3929824561403509\n",
            "F-score: 0.4400785854616896\n"
          ]
        }
      ]
    },
    {
      "cell_type": "code",
      "source": [
        "import tensorflow as tf\n",
        "from tensorflow.keras.preprocessing.image import ImageDataGenerator\n",
        "from tensorflow.keras.applications import ResNet50\n",
        "from tensorflow.keras.layers import Dense, GlobalAveragePooling2D\n",
        "from tensorflow.keras.models import Model"
      ],
      "metadata": {
        "id": "DO_KO_Lm4H9I"
      },
      "execution_count": 24,
      "outputs": []
    },
    {
      "cell_type": "code",
      "source": [
        "\n",
        "# Load dataset\n",
        "train_data_dir = '/content/drive/MyDrive/dataset/train'\n",
        "test_data_dir = '/content/drive/MyDrive/dataset/test'\n",
        "\n",
        "img_width, img_height = 155, 155\n",
        "batch_size = 32\n"
      ],
      "metadata": {
        "id": "Mr0bm9Xv7ZDB"
      },
      "execution_count": 25,
      "outputs": []
    },
    {
      "cell_type": "code",
      "source": [
        "\n",
        "# Data preprocessing\n",
        "train_datagen = ImageDataGenerator(\n",
        "    rescale=1./255,\n",
        "    shear_range=0.2,\n",
        "    zoom_range=0.2,\n",
        "    horizontal_flip=True)\n",
        "\n",
        "test_datagen = ImageDataGenerator(rescale=1./255)\n",
        "\n",
        "train_generator = train_datagen.flow_from_directory(\n",
        "    train_data_dir,\n",
        "    target_size=(img_width, img_height),\n",
        "    batch_size=batch_size,\n",
        "    class_mode='binary')\n",
        "\n",
        "validation_generator = test_datagen.flow_from_directory(\n",
        "    test_data_dir,\n",
        "    target_size=(img_width, img_height),\n",
        "    batch_size=batch_size,\n",
        "    class_mode='binary')\n",
        "\n"
      ],
      "metadata": {
        "colab": {
          "base_uri": "https://localhost:8080/"
        },
        "id": "J_ecE8Ng7brk",
        "outputId": "bc7d5945-78fe-4358-ae82-0cf0185e97d8"
      },
      "execution_count": 26,
      "outputs": [
        {
          "output_type": "stream",
          "name": "stdout",
          "text": [
            "Found 518 images belonging to 2 classes.\n",
            "Found 172 images belonging to 2 classes.\n"
          ]
        }
      ]
    },
    {
      "cell_type": "code",
      "source": [
        "# Load pre-trained ResNet50 model\n",
        "base_model = ResNet50(weights='imagenet', include_top=False)\n",
        "\n",
        "# Add custom layers for classification\n",
        "x = base_model.output\n",
        "x = GlobalAveragePooling2D()(x)\n",
        "x = Dense(1024, activation='relu')(x)\n",
        "predictions = Dense(1, activation='sigmoid')(x)\n",
        "\n",
        "# Final model\n",
        "model = Model(inputs=base_model.input, outputs=predictions)\n",
        "\n",
        "# Freeze pre-trained layers\n",
        "for layer in base_model.layers:\n",
        "    layer.trainable = False\n"
      ],
      "metadata": {
        "id": "YpR77C1I7gLV"
      },
      "execution_count": 27,
      "outputs": []
    },
    {
      "cell_type": "code",
      "source": [
        "# Compile the model\n",
        "model.compile(optimizer='adam', loss='binary_crossentropy', metrics=['accuracy'])\n"
      ],
      "metadata": {
        "id": "yTf5Xfy17jba"
      },
      "execution_count": 28,
      "outputs": []
    },
    {
      "cell_type": "code",
      "source": [
        "\n",
        "# Train the model\n",
        "model.fit(\n",
        "    train_generator,\n",
        "    steps_per_epoch=train_generator.samples // batch_size,\n",
        "    epochs=10,\n",
        "    validation_data=validation_generator,\n",
        "    validation_steps=validation_generator.samples // batch_size)\n"
      ],
      "metadata": {
        "colab": {
          "base_uri": "https://localhost:8080/"
        },
        "id": "sNU7ps3w7l36",
        "outputId": "a82c8b9f-3216-4fc8-e048-d05062944ca6"
      },
      "execution_count": 29,
      "outputs": [
        {
          "output_type": "stream",
          "name": "stdout",
          "text": [
            "Epoch 1/10\n",
            "16/16 [==============================] - 151s 9s/step - loss: 0.6991 - accuracy: 0.5761 - val_loss: 0.6547 - val_accuracy: 0.5000\n",
            "Epoch 2/10\n",
            "16/16 [==============================] - 137s 8s/step - loss: 0.6551 - accuracy: 0.5781 - val_loss: 0.5759 - val_accuracy: 0.7188\n",
            "Epoch 3/10\n",
            "16/16 [==============================] - 146s 9s/step - loss: 0.6035 - accuracy: 0.7181 - val_loss: 0.5154 - val_accuracy: 0.9062\n",
            "Epoch 4/10\n",
            "16/16 [==============================] - 141s 9s/step - loss: 0.5840 - accuracy: 0.7222 - val_loss: 0.6167 - val_accuracy: 0.5750\n",
            "Epoch 5/10\n",
            "16/16 [==============================] - 131s 8s/step - loss: 0.5496 - accuracy: 0.7449 - val_loss: 0.5339 - val_accuracy: 0.6687\n",
            "Epoch 6/10\n",
            "16/16 [==============================] - 135s 8s/step - loss: 0.6038 - accuracy: 0.6667 - val_loss: 0.6285 - val_accuracy: 0.5875\n",
            "Epoch 7/10\n",
            "16/16 [==============================] - 142s 9s/step - loss: 0.5696 - accuracy: 0.6875 - val_loss: 0.4112 - val_accuracy: 0.9125\n",
            "Epoch 8/10\n",
            "16/16 [==============================] - 131s 8s/step - loss: 0.5202 - accuracy: 0.7572 - val_loss: 0.3991 - val_accuracy: 0.8438\n",
            "Epoch 9/10\n",
            "16/16 [==============================] - 132s 8s/step - loss: 0.5016 - accuracy: 0.7901 - val_loss: 0.3741 - val_accuracy: 0.8750\n",
            "Epoch 10/10\n",
            "16/16 [==============================] - 131s 8s/step - loss: 0.4614 - accuracy: 0.8107 - val_loss: 0.3558 - val_accuracy: 0.8625\n"
          ]
        },
        {
          "output_type": "execute_result",
          "data": {
            "text/plain": [
              "<keras.src.callbacks.History at 0x7a3ac4768880>"
            ]
          },
          "metadata": {},
          "execution_count": 29
        }
      ]
    },
    {
      "cell_type": "code",
      "source": [
        "\n",
        "\n",
        "# Evaluate the model\n",
        "score = model.evaluate(validation_generator)\n",
        "print(\"Test Loss:\", score[0])\n",
        "print(\"Test Accuracy:\", score[1])\n"
      ],
      "metadata": {
        "colab": {
          "base_uri": "https://localhost:8080/"
        },
        "id": "2AmREC2c4Dzs",
        "outputId": "76c9853d-ece1-4b40-9453-2d3b97f13509"
      },
      "execution_count": 30,
      "outputs": [
        {
          "output_type": "stream",
          "name": "stdout",
          "text": [
            "6/6 [==============================] - 35s 5s/step - loss: 0.3577 - accuracy: 0.8605\n",
            "Test Loss: 0.3577195405960083\n",
            "Test Accuracy: 0.8604651093482971\n"
          ]
        }
      ]
    }
  ]
}